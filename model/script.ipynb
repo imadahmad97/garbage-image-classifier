{
 "cells": [
  {
   "cell_type": "code",
   "execution_count": 12,
   "id": "4bb815fe-481f-43df-a595-db3e0e62427c",
   "metadata": {},
   "outputs": [],
   "source": [
    "import os\n",
    "from skimage.io import imread\n",
    "from skimage.transform import resize\n",
    "import numpy as np\n",
    "from sklearn.model_selection import train_test_split, GridSearchCV\n",
    "from sklearn.svm import SVC\n",
    "from sklearn.preprocessing import StandardScaler\n",
    "from sklearn.metrics import accuracy_score\n",
    "import pickle"
   ]
  },
  {
   "cell_type": "code",
   "execution_count": 2,
   "id": "cba4fb26-5c9b-42c0-9343-324dd3099117",
   "metadata": {},
   "outputs": [],
   "source": [
    "input_dir = 'images'\n",
    "categories = ['compostable', 'recyclable', 'trash']"
   ]
  },
  {
   "cell_type": "code",
   "execution_count": 3,
   "id": "9ef3a82e-8696-4dfd-90bd-0817d776f456",
   "metadata": {},
   "outputs": [],
   "source": [
    "data = []\n",
    "labels = []"
   ]
  },
  {
   "cell_type": "code",
   "execution_count": 4,
   "id": "7f91d637-b9fc-45ad-ab39-2f3049275927",
   "metadata": {},
   "outputs": [],
   "source": [
    "for category_idx, category in enumerate(categories):\n",
    "    for file in os.listdir(os.path.join(input_dir, category)):\n",
    "        img_path = os.path.join(input_dir, category, file)\n",
    "        img = imread(img_path)\n",
    "        img = resize(img, (15, 15))\n",
    "        if img.flatten().shape[0] == 675:  # Check the shape of the flattened image\n",
    "            data.append(img.flatten())\n",
    "            labels.append(category_idx)\n",
    "\n",
    "data = np.asarray(data, dtype=object)\n",
    "data = np.vstack(data)\n",
    "labels = np.asarray(labels, dtype=int)"
   ]
  },
  {
   "cell_type": "code",
   "execution_count": 5,
   "id": "25a32ece-e732-4fb9-9150-5d4e493cff26",
   "metadata": {},
   "outputs": [
    {
     "data": {
      "text/plain": [
       "(7240, 675)"
      ]
     },
     "execution_count": 5,
     "metadata": {},
     "output_type": "execute_result"
    }
   ],
   "source": [
    "data.shape"
   ]
  },
  {
   "cell_type": "code",
   "execution_count": 6,
   "id": "11daf33b-a62a-409b-8783-3dfed0f7949c",
   "metadata": {},
   "outputs": [
    {
     "data": {
      "text/plain": [
       "array([[0.7777049947797856, 0.7429764427705803, 0.7022876662266204, ...,\n",
       "        0.7988733907692979, 0.6496965642774479, 0.3555868628433175],\n",
       "       [0.5030808230552063, 0.4736305495211798, 0.4644717298862793, ...,\n",
       "        0.39965042700660725, 0.3923597521565111, 0.4735516959419602],\n",
       "       [0.9971783167675776, 0.9971783167675776, 0.9971783167675776, ...,\n",
       "        0.9999999988394723, 0.9999999988394723, 0.9999999988394723],\n",
       "       ...,\n",
       "       [0.07245076438819688, 0.6373023420130431, 0.7318768396053901, ...,\n",
       "        0.45259687707652035, 0.8005181446349227, 0.875149716497872],\n",
       "       [0.9891297856123841, 0.9891297856123841, 0.9891297856123841, ...,\n",
       "        0.9999992990872266, 0.9999651215594364, 0.9999995158937995],\n",
       "       [1.0, 1.0, 1.0, ..., 1.0, 1.0, 1.0]], dtype=object)"
      ]
     },
     "execution_count": 6,
     "metadata": {},
     "output_type": "execute_result"
    }
   ],
   "source": [
    "data"
   ]
  },
  {
   "cell_type": "code",
   "execution_count": 7,
   "id": "cf4756fa-b6eb-48c0-8c00-3ed75483e581",
   "metadata": {},
   "outputs": [],
   "source": [
    "x_train, x_test, y_train, y_test = train_test_split(data, labels, test_size=0.2, shuffle=True, stratify=labels)"
   ]
  },
  {
   "cell_type": "code",
   "execution_count": 8,
   "id": "3f7f847c-7cdd-4db7-a232-b6219ac01460",
   "metadata": {},
   "outputs": [
    {
     "data": {
      "text/plain": [
       "SVC()"
      ]
     },
     "execution_count": 8,
     "metadata": {},
     "output_type": "execute_result"
    }
   ],
   "source": [
    "classifier = SVC()\n",
    "\n",
    "# parameters = [{'kernel': ['linear', 'rbf', 'poly'], \n",
    "#                'C': [1, 10, 100, 1000], \n",
    "#                'gamma': [0.1, 0.01, 0.001, 0.0001], \n",
    "#                'degree': [2,3,4]}]\n",
    "\n",
    "# parameters = [{'gamma': [0.01, 0.001, 0.0001], 'C': [1,10,100,1000]}]\n",
    "\n",
    "# grid_search = GridSearchCV(classifier, parameters, error_score='raise')\n",
    "\n",
    "classifier.fit(x_train, y_train)"
   ]
  },
  {
   "cell_type": "code",
   "execution_count": 11,
   "id": "c21f61c3-154d-4b95-8a76-4b73ce211088",
   "metadata": {},
   "outputs": [
    {
     "name": "stdout",
     "output_type": "stream",
     "text": [
      "84.46132596685084% of samples were correctly classified\n"
     ]
    }
   ],
   "source": [
    "y_prediction = classifier.predict(x_test)\n",
    "score = accuracy_score(y_prediction, y_test)\n",
    "print('{}% of samples were correctly classified'.format(str(score*100)))"
   ]
  },
  {
   "cell_type": "code",
   "execution_count": null,
   "id": "dc8a0bcd-a2e7-4518-984a-a201ffffd589",
   "metadata": {},
   "outputs": [],
   "source": [
    "with open('test_model.pkl', 'wb') as f:\n",
    "    pickle.dump(classifier, f)"
   ]
  }
 ],
 "metadata": {
  "kernelspec": {
   "display_name": "Python 3 (ipykernel)",
   "language": "python",
   "name": "python3"
  },
  "language_info": {
   "codemirror_mode": {
    "name": "ipython",
    "version": 3
   },
   "file_extension": ".py",
   "mimetype": "text/x-python",
   "name": "python",
   "nbconvert_exporter": "python",
   "pygments_lexer": "ipython3",
   "version": "3.9.12"
  }
 },
 "nbformat": 4,
 "nbformat_minor": 5
}
