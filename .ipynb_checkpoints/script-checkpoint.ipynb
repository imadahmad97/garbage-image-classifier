{
 "cells": [
  {
   "cell_type": "code",
   "execution_count": 8,
   "id": "4bb815fe-481f-43df-a595-db3e0e62427c",
   "metadata": {},
   "outputs": [],
   "source": [
    "import os\n",
    "from skimage.io import imread\n",
    "from skimage.transform import resize\n",
    "import numpy as np"
   ]
  },
  {
   "cell_type": "code",
   "execution_count": 6,
   "id": "cba4fb26-5c9b-42c0-9343-324dd3099117",
   "metadata": {},
   "outputs": [],
   "source": [
    "input_dir = 'repos/garbage-image-classifier/images'\n",
    "categories = ['compostable', 'recyclable', 'trash']"
   ]
  },
  {
   "cell_type": "code",
   "execution_count": 7,
   "id": "9ef3a82e-8696-4dfd-90bd-0817d776f456",
   "metadata": {},
   "outputs": [],
   "source": [
    "data = []\n",
    "labels = []"
   ]
  },
  {
   "cell_type": "code",
   "execution_count": null,
   "id": "7f91d637-b9fc-45ad-ab39-2f3049275927",
   "metadata": {},
   "outputs": [],
   "source": [
    "for category_idx, category in enumerate(categories):\n",
    "    for file in os.listdir(os.path.join(input_dir, category)):\n",
    "        img_path = os.path.join(input_dir, category, file)\n",
    "        img = imread(img_path)\n",
    "        img = resize(img, (15, 15))\n",
    "        data.append(img.flatted())\n",
    "        labels.append(category_idx)\n",
    "        \n",
    "data = np.asarray(data)\n",
    "labels = np.asarray(labels)"
   ]
  }
 ],
 "metadata": {
  "kernelspec": {
   "display_name": "Python 3 (ipykernel)",
   "language": "python",
   "name": "python3"
  },
  "language_info": {
   "codemirror_mode": {
    "name": "ipython",
    "version": 3
   },
   "file_extension": ".py",
   "mimetype": "text/x-python",
   "name": "python",
   "nbconvert_exporter": "python",
   "pygments_lexer": "ipython3",
   "version": "3.9.12"
  }
 },
 "nbformat": 4,
 "nbformat_minor": 5
}
