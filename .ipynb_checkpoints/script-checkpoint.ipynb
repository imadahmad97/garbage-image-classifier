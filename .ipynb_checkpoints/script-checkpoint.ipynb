{
 "cells": [
  {
   "cell_type": "code",
   "execution_count": 1,
   "id": "4bb815fe-481f-43df-a595-db3e0e62427c",
   "metadata": {},
   "outputs": [],
   "source": [
    "import os\n",
    "from skimage.io import imread\n",
    "from skimage.transform import resize\n",
    "import numpy as np\n",
    "from sklearn.model_selection import train_test_split, GridSearchCV\n",
    "from sklearn.svm import SVC\n",
    "from sklearn.preprocessing import StandardScaler"
   ]
  },
  {
   "cell_type": "code",
   "execution_count": 2,
   "id": "cba4fb26-5c9b-42c0-9343-324dd3099117",
   "metadata": {},
   "outputs": [],
   "source": [
    "input_dir = 'images'\n",
    "categories = ['compostable', 'recyclable', 'trash']"
   ]
  },
  {
   "cell_type": "code",
   "execution_count": 3,
   "id": "9ef3a82e-8696-4dfd-90bd-0817d776f456",
   "metadata": {},
   "outputs": [],
   "source": [
    "data = []\n",
    "labels = []"
   ]
  },
  {
   "cell_type": "code",
   "execution_count": null,
   "id": "7f91d637-b9fc-45ad-ab39-2f3049275927",
   "metadata": {},
   "outputs": [],
   "source": [
    "for category_idx, category in enumerate(categories):\n",
    "    for file in os.listdir(os.path.join(input_dir, category)):\n",
    "        img_path = os.path.join(input_dir, category, file)\n",
    "        img = imread(img_path)\n",
    "        img = resize(img, (15, 15))\n",
    "        data.append(img.flatten())\n",
    "        labels.append(category_idx)\n",
    "        \n",
    "data = np.asarray(data, dtype=object)\n",
    "data = np.vstack(data)\n",
    "labels = np.asarray(labels, dtype=int)"
   ]
  },
  {
   "cell_type": "code",
   "execution_count": null,
   "id": "cf4756fa-b6eb-48c0-8c00-3ed75483e581",
   "metadata": {},
   "outputs": [],
   "source": [
    "x_train, x_test, y_train, y_test = train_test_split(data, labels, test_size=0.2, shuffle=True, stratify=labels)"
   ]
  },
  {
   "cell_type": "code",
   "execution_count": null,
   "id": "3f7f847c-7cdd-4db7-a232-b6219ac01460",
   "metadata": {},
   "outputs": [],
   "source": [
    "classifier = SVC()\n",
    "\n",
    "parameters = [{'kernel': ['linear', 'rbf', 'poly'], \n",
    "               'C': [1, 10, 100, 1000], \n",
    "               'gamma': [0.1, 0.01, 0.001, 0.0001], \n",
    "               'degree': [2,3,4]}]\n",
    "\n",
    "grid_search = GridSearchCV(classifier, parameters, error_score='raise')\n",
    "\n",
    "grid_search.fit(x_train, y_train)"
   ]
  }
 ],
 "metadata": {
  "kernelspec": {
   "display_name": "Python 3 (ipykernel)",
   "language": "python",
   "name": "python3"
  },
  "language_info": {
   "codemirror_mode": {
    "name": "ipython",
    "version": 3
   },
   "file_extension": ".py",
   "mimetype": "text/x-python",
   "name": "python",
   "nbconvert_exporter": "python",
   "pygments_lexer": "ipython3",
   "version": "3.9.12"
  }
 },
 "nbformat": 4,
 "nbformat_minor": 5
}
