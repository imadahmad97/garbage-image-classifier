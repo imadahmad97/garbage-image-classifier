{
 "cells": [
  {
   "cell_type": "code",
   "execution_count": 8,
   "id": "f682b1ed-ffb7-44ce-a4d0-e2eb8d73d52a",
   "metadata": {},
   "outputs": [],
   "source": [
    "import numpy as np"
   ]
  },
  {
   "cell_type": "code",
   "execution_count": null,
   "id": "a6c2d621-3f60-4180-8f04-c9a867ebfdef",
   "metadata": {},
   "outputs": [],
   "source": [
    "# Recyclable = 1"
   ]
  },
  {
   "cell_type": "code",
   "execution_count": 9,
   "id": "7e6a1243-aa23-4126-a76b-d147616197d6",
   "metadata": {},
   "outputs": [],
   "source": [
    "def unpickle(file):\n",
    "    import numpy as np\n",
    "    with open(file, 'rb') as fo:\n",
    "        data = np.load(file)\n",
    "    x, y = data['x'], data['y']\n",
    "    y[y < 255] = 1\n",
    "    return x, y"
   ]
  },
  {
   "cell_type": "code",
   "execution_count": 20,
   "id": "171705f0-e3e4-4ea8-ae55-3296d06ec856",
   "metadata": {},
   "outputs": [],
   "source": [
    "x, y = unpickle('recycled_32/recycled_32_train.npz')"
   ]
  }
 ],
 "metadata": {
  "kernelspec": {
   "display_name": "Python 3 (ipykernel)",
   "language": "python",
   "name": "python3"
  },
  "language_info": {
   "codemirror_mode": {
    "name": "ipython",
    "version": 3
   },
   "file_extension": ".py",
   "mimetype": "text/x-python",
   "name": "python",
   "nbconvert_exporter": "python",
   "pygments_lexer": "ipython3",
   "version": "3.9.12"
  }
 },
 "nbformat": 4,
 "nbformat_minor": 5
}
